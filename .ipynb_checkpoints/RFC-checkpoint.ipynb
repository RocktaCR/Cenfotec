{
 "cells": [
  {
   "cell_type": "code",
   "execution_count": 1,
   "metadata": {},
   "outputs": [],
   "source": [
    "import pandas as pd\n",
    "from IPython.display import display, HTML\n",
    "credit = pd.io.parsers.read_csv(\"NewdefaultValues.csv\")\n",
    "del credit['Unnamed: 0']\n",
    "credit['SEX'] = credit['SEX'].astype('category')\n",
    "credit['EDUCATION'] = credit['EDUCATION'].astype('category')\n",
    "credit['MARRIAGE'] = credit['MARRIAGE'].astype('category')\n",
    "\n",
    "credit['PAY_0'] = credit['PAY_0'].astype('category')\n",
    "credit['PAY_2'] = credit['PAY_2'].astype('category')\n",
    "credit['PAY_3'] = credit['PAY_3'].astype('category')\n",
    "credit['PAY_4'] = credit['PAY_4'].astype('category')\n",
    "credit['PAY_5'] = credit['PAY_5'].astype('category')\n",
    "credit['PAY_6'] = credit['PAY_6'].astype('category')\n",
    "credit['defaultPayment_Nextmonth'] = credit['defaultPayment_Nextmonth'].astype('category')"
   ]
  },
  {
   "cell_type": "code",
   "execution_count": 24,
   "metadata": {},
   "outputs": [
    {
     "name": "stdout",
     "output_type": "stream",
     "text": [
      "Fitting 2 folds for each of 48 candidates, totalling 96 fits\n"
     ]
    },
    {
     "name": "stderr",
     "output_type": "stream",
     "text": [
      "[Parallel(n_jobs=-1)]: Using backend LokyBackend with 8 concurrent workers.\n",
      "[Parallel(n_jobs=-1)]: Done  25 tasks      | elapsed:   15.1s\n",
      "[Parallel(n_jobs=-1)]: Done  96 out of  96 | elapsed:   48.3s finished\n"
     ]
    },
    {
     "name": "stdout",
     "output_type": "stream",
     "text": [
      "Fitting 2 folds for each of 48 candidates, totalling 96 fits\n"
     ]
    },
    {
     "name": "stderr",
     "output_type": "stream",
     "text": [
      "[Parallel(n_jobs=-1)]: Using backend LokyBackend with 8 concurrent workers.\n",
      "[Parallel(n_jobs=-1)]: Done  25 tasks      | elapsed:    8.9s\n",
      "[Parallel(n_jobs=-1)]: Done  96 out of  96 | elapsed:   36.1s finished\n"
     ]
    },
    {
     "name": "stdout",
     "output_type": "stream",
     "text": [
      "Fitting 2 folds for each of 48 candidates, totalling 96 fits\n"
     ]
    },
    {
     "name": "stderr",
     "output_type": "stream",
     "text": [
      "[Parallel(n_jobs=-1)]: Using backend LokyBackend with 8 concurrent workers.\n",
      "[Parallel(n_jobs=-1)]: Done  25 tasks      | elapsed:    9.2s\n",
      "[Parallel(n_jobs=-1)]: Done  96 out of  96 | elapsed:   36.9s finished\n"
     ]
    },
    {
     "name": "stdout",
     "output_type": "stream",
     "text": [
      "Fitting 2 folds for each of 48 candidates, totalling 96 fits\n"
     ]
    },
    {
     "name": "stderr",
     "output_type": "stream",
     "text": [
      "[Parallel(n_jobs=-1)]: Using backend LokyBackend with 8 concurrent workers.\n",
      "[Parallel(n_jobs=-1)]: Done  25 tasks      | elapsed:    8.7s\n",
      "[Parallel(n_jobs=-1)]: Done  96 out of  96 | elapsed:   35.6s finished\n"
     ]
    },
    {
     "name": "stdout",
     "output_type": "stream",
     "text": [
      "Fitting 2 folds for each of 48 candidates, totalling 96 fits\n"
     ]
    },
    {
     "name": "stderr",
     "output_type": "stream",
     "text": [
      "[Parallel(n_jobs=-1)]: Using backend LokyBackend with 8 concurrent workers.\n",
      "[Parallel(n_jobs=-1)]: Done  25 tasks      | elapsed:    9.5s\n",
      "[Parallel(n_jobs=-1)]: Done  96 out of  96 | elapsed:  1.2min finished\n"
     ]
    },
    {
     "name": "stdout",
     "output_type": "stream",
     "text": [
      "Fitting 2 folds for each of 48 candidates, totalling 96 fits\n"
     ]
    },
    {
     "name": "stderr",
     "output_type": "stream",
     "text": [
      "[Parallel(n_jobs=-1)]: Using backend LokyBackend with 8 concurrent workers.\n",
      "[Parallel(n_jobs=-1)]: Done  25 tasks      | elapsed:   14.5s\n",
      "[Parallel(n_jobs=-1)]: Done  96 out of  96 | elapsed:   55.1s finished\n"
     ]
    },
    {
     "name": "stdout",
     "output_type": "stream",
     "text": [
      "Fitting 2 folds for each of 48 candidates, totalling 96 fits\n"
     ]
    },
    {
     "name": "stderr",
     "output_type": "stream",
     "text": [
      "[Parallel(n_jobs=-1)]: Using backend LokyBackend with 8 concurrent workers.\n",
      "[Parallel(n_jobs=-1)]: Done  25 tasks      | elapsed:   12.7s\n",
      "[Parallel(n_jobs=-1)]: Done  96 out of  96 | elapsed:  1.0min finished\n"
     ]
    },
    {
     "name": "stdout",
     "output_type": "stream",
     "text": [
      "Fitting 2 folds for each of 48 candidates, totalling 96 fits\n"
     ]
    },
    {
     "name": "stderr",
     "output_type": "stream",
     "text": [
      "[Parallel(n_jobs=-1)]: Using backend LokyBackend with 8 concurrent workers.\n",
      "[Parallel(n_jobs=-1)]: Done  25 tasks      | elapsed:   10.3s\n",
      "[Parallel(n_jobs=-1)]: Done  96 out of  96 | elapsed:   42.9s finished\n"
     ]
    },
    {
     "name": "stdout",
     "output_type": "stream",
     "text": [
      "Fitting 2 folds for each of 48 candidates, totalling 96 fits\n"
     ]
    },
    {
     "name": "stderr",
     "output_type": "stream",
     "text": [
      "[Parallel(n_jobs=-1)]: Using backend LokyBackend with 8 concurrent workers.\n",
      "[Parallel(n_jobs=-1)]: Done  25 tasks      | elapsed:   11.2s\n",
      "[Parallel(n_jobs=-1)]: Done  96 out of  96 | elapsed:   39.5s finished\n"
     ]
    },
    {
     "name": "stdout",
     "output_type": "stream",
     "text": [
      "Fitting 2 folds for each of 48 candidates, totalling 96 fits\n"
     ]
    },
    {
     "name": "stderr",
     "output_type": "stream",
     "text": [
      "[Parallel(n_jobs=-1)]: Using backend LokyBackend with 8 concurrent workers.\n",
      "[Parallel(n_jobs=-1)]: Done  25 tasks      | elapsed:   10.8s\n",
      "[Parallel(n_jobs=-1)]: Done  96 out of  96 | elapsed:   46.2s finished\n"
     ]
    },
    {
     "name": "stdout",
     "output_type": "stream",
     "text": [
      "Fitting 2 folds for each of 48 candidates, totalling 96 fits\n"
     ]
    },
    {
     "name": "stderr",
     "output_type": "stream",
     "text": [
      "[Parallel(n_jobs=-1)]: Using backend LokyBackend with 8 concurrent workers.\n",
      "[Parallel(n_jobs=-1)]: Done  25 tasks      | elapsed:   11.2s\n",
      "[Parallel(n_jobs=-1)]: Done  96 out of  96 | elapsed:   42.0s finished\n"
     ]
    },
    {
     "name": "stdout",
     "output_type": "stream",
     "text": [
      "Cross Validation - Accuracy of SVR:  80.66 %\n",
      "Cross Validation - R_Squared of SVR:  87.19 %\n",
      "SVR - RMSE: 0.448\n",
      "[[2214  101]\n",
      " [ 502  183]]\n",
      "              precision    recall  f1-score   support\n",
      "\n",
      "           0       0.82      0.96      0.88      2315\n",
      "           1       0.64      0.27      0.38       685\n",
      "\n",
      "    accuracy                           0.80      3000\n",
      "   macro avg       0.73      0.61      0.63      3000\n",
      "weighted avg       0.78      0.80      0.77      3000\n",
      "\n"
     ]
    }
   ],
   "source": [
    "#Classification - Random forest \n",
    "from sklearn.svm import SVC\n",
    "from sklearn.model_selection import GridSearchCV\n",
    "from sklearn import model_selection\n",
    "import numpy as np\n",
    "from sklearn.model_selection import cross_val_score\n",
    "from sklearn.metrics import classification_report, confusion_matrix\n",
    "from sklearn.metrics import r2_score\n",
    "from sklearn.model_selection import cross_val_score\n",
    "from sklearn.model_selection import train_test_split\n",
    "from sklearn.ensemble import RandomForestClassifier\n",
    "from sklearn.metrics import mean_squared_error\n",
    "from math import sqrt\n",
    "from sklearn.model_selection import cross_val_score\n",
    "from sklearn.metrics import classification_report, confusion_matrix\n",
    "\n",
    "newcredit = credit[: 10000]\n",
    "np.random.seed(124)\n",
    "X_train, X_test, y_train, y_test = train_test_split(newcredit.drop(\"defaultPayment_Nextmonth\", axis=1),newcredit['defaultPayment_Nextmonth'],train_size = 0.7,random_state=42)\n",
    "\n",
    "rf = RandomForestClassifier()\n",
    "param_grid = {\n",
    "    'bootstrap': [True],\n",
    "    'max_depth': [80, 90, 100, 110],\n",
    "    'max_features': [2],\n",
    "    'min_samples_leaf': [3],\n",
    "    'min_samples_split': [8, 10, 12],\n",
    "    'n_estimators': [100, 200, 300, 1000]\n",
    "}\n",
    "modelRFC = GridSearchCV(estimator = rf, param_grid = param_grid, \n",
    "                          cv = 2, n_jobs = -1, verbose = 2)\n",
    "modelRFC.fit(X_train,y_train)\n",
    "cross_val_rfc = cross_val_score(modelRFC, X=X_train, y=y_train, cv=10)\n",
    "R_SquaredRF = modelRFC.score(X_train,y_train)\n",
    "print(\"Cross Validation - Accuracy of RFC: \", round(cross_val_rfc.mean() * 100 , 2),\"%\")\n",
    "print(\"Cross Validation - R_Squared of RFC: \", round(R_SquaredRF * 100 , 2),\"%\")\n",
    "\n",
    "#Make Predictions\n",
    "predictionsRFC = modelRFC.predict(X_test)\n",
    "rmseSVR = sqrt(mean_squared_error(y_test, predictionsRFC))\n",
    "print('RFC - RMSE: %.3f' % rmseSVR)\n",
    "print(confusion_matrix(y_test, predictionsRFC))\n",
    "print(classification_report(y_test, predictionsRFC))"
   ]
  },
  {
   "cell_type": "code",
   "execution_count": 23,
   "metadata": {},
   "outputs": [
    {
     "name": "stdout",
     "output_type": "stream",
     "text": [
      "[[232   6]\n",
      " [ 54   8]]\n",
      "              precision    recall  f1-score   support\n",
      "\n",
      "           0       0.81      0.97      0.89       238\n",
      "           1       0.57      0.13      0.21        62\n",
      "\n",
      "    accuracy                           0.80       300\n",
      "   macro avg       0.69      0.55      0.55       300\n",
      "weighted avg       0.76      0.80      0.75       300\n",
      "\n"
     ]
    }
   ],
   "source": [
    "#Make Predictions\n",
    "\n",
    "#predictionsRFC = modelRFC.predict(X_test)\n",
    "#predRsquaredRFC = r2_score(y_test,pd.DataFrame(predictionsRFC))\n",
    "#rmseSVR = sqrt(mean_squared_error(y_test, predictionsRFC))\n",
    "#print('SVR - RMSE: %.3f' % rmseSVR)\n"
   ]
  }
 ],
 "metadata": {
  "kernelspec": {
   "display_name": "Python 3",
   "language": "python",
   "name": "python3"
  },
  "language_info": {
   "codemirror_mode": {
    "name": "ipython",
    "version": 3
   },
   "file_extension": ".py",
   "mimetype": "text/x-python",
   "name": "python",
   "nbconvert_exporter": "python",
   "pygments_lexer": "ipython3",
   "version": "3.7.4"
  }
 },
 "nbformat": 4,
 "nbformat_minor": 2
}
