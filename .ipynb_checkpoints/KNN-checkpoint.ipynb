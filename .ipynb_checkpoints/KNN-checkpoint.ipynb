{
 "cells": [
  {
   "cell_type": "code",
   "execution_count": 17,
   "metadata": {},
   "outputs": [
    {
     "name": "stdout",
     "output_type": "stream",
     "text": [
      "       LIMIT_BAL SEX EDUCATION MARRIAGE  AGE PAY_0 PAY_2 PAY_3 PAY_4 PAY_5  \\\n",
      "0          20000   2         2        1   24     2     2    -1    -1    -2   \n",
      "1         120000   2         2        2   26    -1     2     0     0     0   \n",
      "2          90000   2         2        2   34     0     0     0     0     0   \n",
      "3          50000   2         2        1   37     0     0     0     0     0   \n",
      "4          50000   1         2        1   57    -1     0    -1     0     0   \n",
      "...          ...  ..       ...      ...  ...   ...   ...   ...   ...   ...   \n",
      "29995     220000   1         3        1   39     0     0     0     0     0   \n",
      "29996     150000   1         3        2   43    -1    -1    -1    -1     0   \n",
      "29997      30000   1         2        2   37     4     3     2    -1     0   \n",
      "29998      80000   1         3        1   41     1    -1     0     0     0   \n",
      "29999      50000   1         2        1   46     0     0     0     0     0   \n",
      "\n",
      "      PAY_6 defaultPayment_Nextmonth  \n",
      "0        -2                        1  \n",
      "1         2                        1  \n",
      "2         0                        0  \n",
      "3         0                        0  \n",
      "4         0                        0  \n",
      "...     ...                      ...  \n",
      "29995     0                        0  \n",
      "29996     0                        0  \n",
      "29997     0                        1  \n",
      "29998    -1                        1  \n",
      "29999     0                        1  \n",
      "\n",
      "[30000 rows x 12 columns]\n"
     ]
    }
   ],
   "source": [
    "#Classification - Random forest \n",
    "from sklearn.svm import SVC\n",
    "from sklearn.model_selection import GridSearchCV\n",
    "from sklearn import model_selection\n",
    "import numpy as np\n",
    "from sklearn.model_selection import cross_val_score\n",
    "from sklearn.metrics import classification_report, confusion_matrix\n",
    "from sklearn.metrics import r2_score\n",
    "from sklearn.model_selection import cross_val_score\n",
    "from sklearn.model_selection import train_test_split\n",
    "from sklearn.neighbors import KNeighborsClassifier \n",
    "from sklearn.metrics import mean_squared_error\n",
    "from math import sqrt\n",
    "from sklearn.model_selection import cross_val_score\n",
    "from sklearn.metrics import classification_report, confusion_matrix\n",
    "import matplotlib.pyplot as plt\n",
    "import pandas as pd\n",
    "from IPython.display import display, HTML\n",
    "from sklearn.ensemble import RandomForestClassifier\n",
    "credit = pd.io.parsers.read_csv(\"NewdefaultValues.csv\")\n",
    "del credit['Unnamed: 0']\n",
    "credit['SEX'] = credit['SEX'].astype('category')\n",
    "credit['EDUCATION'] = credit['EDUCATION'].astype('category')\n",
    "credit['MARRIAGE'] = credit['MARRIAGE'].astype('category')\n",
    "\n",
    "credit['PAY_0'] = credit['PAY_0'].astype('category')\n",
    "credit['PAY_2'] = credit['PAY_2'].astype('category')\n",
    "credit['PAY_3'] = credit['PAY_3'].astype('category')\n",
    "credit['PAY_4'] = credit['PAY_4'].astype('category')\n",
    "credit['PAY_5'] = credit['PAY_5'].astype('category')\n",
    "credit['PAY_6'] = credit['PAY_6'].astype('category')\n",
    "credit['defaultPayment_Nextmonth'] = credit['defaultPayment_Nextmonth'].astype('category')\n",
    "\n",
    "initialColumns = credit.iloc[:,0:11] \n",
    "midColumns = credit.iloc[:,12:23]\n",
    "lastColumn = credit.iloc[:,23:24]\n",
    "\n",
    "credit = pd.concat([initialColumns, lastColumn],sort=True, axis=1)\n",
    "print(credit)"
   ]
  },
  {
   "cell_type": "code",
   "execution_count": null,
   "metadata": {},
   "outputs": [
    {
     "name": "stdout",
     "output_type": "stream",
     "text": [
      "Fitting 2 folds for each of 192 candidates, totalling 384 fits\n"
     ]
    },
    {
     "name": "stderr",
     "output_type": "stream",
     "text": [
      "[Parallel(n_jobs=-1)]: Using backend LokyBackend with 8 concurrent workers.\n",
      "[Parallel(n_jobs=-1)]: Done  25 tasks      | elapsed:   22.4s\n",
      "[Parallel(n_jobs=-1)]: Done 146 tasks      | elapsed:  1.9min\n"
     ]
    }
   ],
   "source": [
    "#Classification - KNN\n",
    "newcredit = credit\n",
    "np.random.seed(653)\n",
    "X_train, X_test, y_train, y_test = train_test_split(newcredit.drop(\"defaultPayment_Nextmonth\", axis=1),newcredit['defaultPayment_Nextmonth'],train_size = 0.7,random_state=42)\n",
    "\n",
    "rf = RandomForestClassifier()\n",
    "param_grid = {\n",
    "    'bootstrap': [True],\n",
    "    'max_depth': [70, 100, 120, 30],\n",
    "    'max_features': [2,3],\n",
    "    'min_samples_leaf': [3,4],\n",
    "    'min_samples_split': [8, 10, 12],\n",
    "    'n_estimators': [50, 150, 200, 800]\n",
    "}\n",
    "modelRFC = GridSearchCV(estimator = rf, param_grid = param_grid, \n",
    "                          cv = 10, n_jobs = -1, verbose = 5)\n",
    "modelRFC.fit(X_train,y_train)\n",
    "cross_val_rfc = cross_val_score(modelRFC, X=X_train, y=y_train, cv=12)\n",
    "R_SquaredRF = modelRFC.score(X_train,y_train)\n",
    "print(\"Cross Validation - Accuracy of RFC: \", round(cross_val_rfc.mean() * 100 , 2),\"%\")\n",
    "print(\"Cross Validation - R_Squared of RFC: \", round(R_SquaredRF * 100 , 2),\"%\")\n",
    "\n",
    "#Make Predictions\n",
    "predictionsRFC = modelRFC.predict(X_test)\n",
    "rmseSVR = sqrt(mean_squared_error(y_test, predictionsRFC))\n",
    "print('RFC - RMSE: %.3f' % rmseSVR)\n",
    "print(confusion_matrix(y_test, predictionsRFC))\n",
    "print(classification_report(y_test, predictionsRFC))\n"
   ]
  },
  {
   "cell_type": "code",
   "execution_count": null,
   "metadata": {},
   "outputs": [],
   "source": []
  }
 ],
 "metadata": {
  "kernelspec": {
   "display_name": "Python 3",
   "language": "python",
   "name": "python3"
  },
  "language_info": {
   "codemirror_mode": {
    "name": "ipython",
    "version": 3
   },
   "file_extension": ".py",
   "mimetype": "text/x-python",
   "name": "python",
   "nbconvert_exporter": "python",
   "pygments_lexer": "ipython3",
   "version": "3.7.4"
  }
 },
 "nbformat": 4,
 "nbformat_minor": 2
}
