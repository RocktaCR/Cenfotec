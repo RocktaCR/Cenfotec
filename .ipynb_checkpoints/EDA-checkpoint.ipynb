{
 "cells": [
  {
   "cell_type": "code",
   "execution_count": null,
   "metadata": {},
   "outputs": [],
   "source": [
    "import pandas as pd\n",
    "import matplotlib.pyplot as plt\n",
    "import numpy as np\n",
    "import seaborn as sns\n",
    "from IPython.display import display, HTML\n",
    "credit = pd.io.parsers.read_csv(\"originaldefaultValues.csv\")\n",
    "header = credit.dtypes.index\n",
    "print(header)\n",
    "plt.hist(credit['LIMIT_BAL'])\n",
    "plt.show()\n",
    "corr_matrix  = credit.corr()\n",
    "\n",
    "np.zeros_like(corr_matrix)\n",
    "\n",
    "np.zeros_like(corr_matrix, dtype=np.bool) #Return an array of zeros with the same shape and type as the given array. The dtype parameter overrides the data type of the result.\n",
    "\n",
    "mask = np.zeros_like(corr_matrix, dtype=np.bool)\n",
    "\n",
    "np.triu_indices_from(mask) #Return the indices for the upper-triangle of array\n",
    "\n",
    "mask[np.triu_indices_from(mask)]= True\n",
    "\n",
    "#f, ax = plt.subplots(figsize=(12, 17)) \n",
    "#heatmap = sns.heatmap(corr_matrix, \n",
    "                      #mask = mask,\n",
    "                      #square = True,\n",
    "                      #linewidths = .5,\n",
    "                      #cmap ='coolwarm',\n",
    "                      #cbar_kws={\"shrink\": .4, 'ticks' : [-1, -.5, 0, 0.5, 1]},\n",
    "                      #vmin = -1, \n",
    "                      #vmax = 1,\n",
    "                      #annot = True,\n",
    "                      #annot_kws = {\"size\": 10})\n",
    "#ax.set_yticklabels(corr_matrix.columns, rotation = 0)\n",
    "#ax.set_xticklabels(corr_matrix.columns) #add the column names as labels\n",
    "#sns.set_style({'xtick.bottom': True}, {'ytick.left': True})\n",
    "\n",
    "#heatmap;\n",
    "#corr = corr_matrix\n",
    "#corr.style.background_gradient(cmap='coolwarm')\n",
    "\n",
    "#plt.plot(credit['LIMIT_BAL'])\n",
    "#plt.show()\n",
    "\n",
    "x = credit['PAY_0']\n",
    "y = credit['PAY_2']\n",
    "plt.scatter(x,y)\n",
    "plt.show()"
   ]
  },
  {
   "cell_type": "code",
   "execution_count": null,
   "metadata": {},
   "outputs": [],
   "source": []
  }
 ],
 "metadata": {
  "kernelspec": {
   "display_name": "Python 3",
   "language": "python",
   "name": "python3"
  },
  "language_info": {
   "codemirror_mode": {
    "name": "ipython",
    "version": 3
   },
   "file_extension": ".py",
   "mimetype": "text/x-python",
   "name": "python",
   "nbconvert_exporter": "python",
   "pygments_lexer": "ipython3",
   "version": "3.7.4"
  },
  "widgets": {
   "application/vnd.jupyter.widget-state+json": {
    "state": {},
    "version_major": 2,
    "version_minor": 0
   }
  }
 },
 "nbformat": 4,
 "nbformat_minor": 2
}
