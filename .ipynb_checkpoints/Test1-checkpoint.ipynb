{
 "cells": [
  {
   "cell_type": "code",
   "execution_count": 72,
   "metadata": {},
   "outputs": [
    {
     "name": "stdout",
     "output_type": "stream",
     "text": [
      "50.0\n",
      "[2, 3]\n",
      "The Apple price is 1000\n",
      "Function returns\n",
      "Mean value is :0.44454940366939977\n",
      "Max value is :0.983872934993452\n",
      "Min value is :0.06995520433688152\n"
     ]
    }
   ],
   "source": [
    "# import math\n",
    "import IPython\n",
    "import math as mt\n",
    "mt.sqrt(25)\n",
    "from numpy import random\n",
    "import numpy as np\n",
    "dataOne = random.rand(5,5)\n",
    "methods = dir(np)\n",
    "\n",
    "variableName = 25\n",
    "type(variableName)\n",
    "\n",
    "varOne = 25\n",
    "varTwo = 25.0\n",
    "varThree = varOne + varTwo\n",
    "print(varThree)\n",
    "type(varThree)\n",
    "\n",
    "listName = [ ]\n",
    "listOne = [1,2,3,4]\n",
    "print(listOne[1:3])\n",
    "\n",
    "tel = {'jack': 4098, 'sape': 4139}\n",
    "tel['jack']\n",
    "\n",
    "fruits = {'Apple': 1000, 'Pear': 800,'Watermelon': 1900, 'Papaya': 1400, 'Banana': 300}\n",
    "print(\"The Apple price is \" + str(fruits['Apple']))\n",
    "\n",
    "def print2(data):\n",
    " print('Function returns')\n",
    " result = np.mean(dataOne)\n",
    " result2 = np.max(dataOne)\n",
    " result3 = np.min(dataOne)\n",
    " print(\"Mean value is :\" + str(result))\n",
    " print(\"Max value is :\" + str(result2))\n",
    " print(\"Min value is :\" + str(result3))\n",
    "\n",
    "print2(dataOne)"
   ]
  },
  {
   "cell_type": "code",
   "execution_count": 80,
   "metadata": {
    "scrolled": true
   },
   "outputs": [
    {
     "name": "stdout",
     "output_type": "stream",
     "text": [
      "151875\n",
      "(225, 225, 3)\n"
     ]
    },
    {
     "data": {
      "image/png": "[encoded data removed]",
      "text/plain": [
       "<Figure size 432x288 with 1 Axes>"
      ]
     },
     "metadata": {
      "needs_background": "light"
     },
     "output_type": "display_data"
    }
   ],
   "source": [
    "import matplotlib.image as img\n",
    "%matplotlib inline\n",
    "image = img.imread(\"descarga.png\")\n",
    "print(image.size)\n",
    "print(image.shape)\n",
    "plt.imshow(image)\n",
    "plt.show()"
   ]
  },
  {
   "cell_type": "code",
   "execution_count": 81,
   "metadata": {},
   "outputs": [
    {
     "name": "stdout",
     "output_type": "stream",
     "text": [
      "    ProductType  ProductNumber    Price  x5StarReviews  x4StarReviews  \\\n",
      "0            PC            171   699.00             96             26   \n",
      "1            PC            172   860.00             51             11   \n",
      "2        Laptop            173  1199.00             74             10   \n",
      "3        Laptop            175  1199.00              7              2   \n",
      "4        Laptop            176  1999.00              1              1   \n",
      "5       Netbook            178   399.99             19              8   \n",
      "6       Netbook            180   329.00            312            112   \n",
      "7       Netbook            181   439.00             23             18   \n",
      "8       Netbook            183   330.00              3              4   \n",
      "9        Tablet            186   629.00            296             66   \n",
      "10       Tablet            187   199.00            943            437   \n",
      "11   Smartphone            193   199.00             99             26   \n",
      "12   Smartphone            194    49.00            100             26   \n",
      "13   Smartphone            195   149.00             42              8   \n",
      "14   Smartphone            196   300.00             50             19   \n",
      "15  GameConsole            199   249.99            462             97   \n",
      "16      Display            201   140.00              4              0   \n",
      "\n",
      "    x3StarReviews  x2StarReviews  x1StarReviews  PositiveServiceReview  \\\n",
      "0              14             14             25                     12   \n",
      "1              10             10             21                      7   \n",
      "2               3              3             11                     11   \n",
      "3               1              1              1                      2   \n",
      "4               1              3              0                      0   \n",
      "5               4              1             10                      2   \n",
      "6              28             31             47                     28   \n",
      "7               7             22             18                      5   \n",
      "8               0              1              0                      1   \n",
      "9              30             21             36                     28   \n",
      "10            224            160            247                     90   \n",
      "11             12             16             35                      8   \n",
      "12             37             33             48                     14   \n",
      "13              4              4              9                      4   \n",
      "14             13             20             22                      5   \n",
      "15             25             17             58                     32   \n",
      "16              0              0              2                      1   \n",
      "\n",
      "    NegativeServiceReview  Wouldconsumerrecommendproduct  BestSellersRank  \\\n",
      "0                       3                            0.7             2498   \n",
      "1                       5                            0.6              490   \n",
      "2                       5                            0.8              111   \n",
      "3                       1                            0.6             4446   \n",
      "4                       1                            0.3             2820   \n",
      "5                       4                            0.6             4140   \n",
      "6                      16                            0.7             2699   \n",
      "7                      16                            0.4             1704   \n",
      "8                       0                            0.7             5128   \n",
      "9                       9                            0.8               34   \n",
      "10                     23                            0.8                1   \n",
      "11                      6                            0.4             1277   \n",
      "12                      6                            0.6            16966   \n",
      "13                      1                            0.7             6316   \n",
      "14                      7                            0.6            44465   \n",
      "15                     12                            0.8              115   \n",
      "16                      1                            0.7              324   \n",
      "\n",
      "    ShippingWeight  ProductDepth  ProductWidth  ProductHeight  Profitmargin  \\\n",
      "0             19.9         20.63         19.25           8.39          0.25   \n",
      "1             27.0         21.89         27.01           9.13          0.20   \n",
      "2              6.6          8.94         12.80           0.68          0.10   \n",
      "3             13.0         16.30         10.80           1.40          0.15   \n",
      "4             11.6         16.81         10.90           0.88          0.23   \n",
      "5              5.8          8.43         11.42           1.20          0.08   \n",
      "6              4.6         10.17          7.28           0.95          0.09   \n",
      "7              4.8          8.00         11.70           1.50          0.11   \n",
      "8              4.3          7.40         10.40           0.97          0.09   \n",
      "9              3.0          7.31          9.50           0.37          0.10   \n",
      "10             0.9          5.40          7.60           0.40          0.20   \n",
      "11             0.9          2.70          5.20           0.40          0.11   \n",
      "12             0.7          2.67          5.33           0.37          0.12   \n",
      "13             0.8          2.70          5.30           0.40          0.15   \n",
      "14             0.9          2.60          5.00           0.40          0.11   \n",
      "15             8.4          6.20         13.20          13.20          0.09   \n",
      "16             8.9         13.60         17.60           7.30          0.05   \n",
      "\n",
      "    Volume  \n",
      "0        0  \n",
      "1        0  \n",
      "2        0  \n",
      "3        0  \n",
      "4        0  \n",
      "5        0  \n",
      "6        0  \n",
      "7        0  \n",
      "8        0  \n",
      "9        0  \n",
      "10       0  \n",
      "11       0  \n",
      "12       0  \n",
      "13       0  \n",
      "14       0  \n",
      "15       0  \n",
      "16       0  \n"
     ]
    }
   ],
   "source": [
    "import pandas as pd\n",
    "loads = pd.io.parsers.read_csv(\"newProductAttributes.csv\")\n",
    "print(loads)"
   ]
  },
  {
   "cell_type": "code",
   "execution_count": null,
   "metadata": {},
   "outputs": [],
   "source": []
  }
 ],
 "metadata": {
  "kernelspec": {
   "display_name": "Python 3",
   "language": "python",
   "name": "python3"
  },
  "language_info": {
   "codemirror_mode": {
    "name": "ipython",
    "version": 3
   },
   "file_extension": ".py",
   "mimetype": "text/x-python",
   "name": "python",
   "nbconvert_exporter": "python",
   "pygments_lexer": "ipython3",
   "version": "3.7.4"
  }
 },
 "nbformat": 4,
 "nbformat_minor": 2
}
