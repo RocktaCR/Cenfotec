{
 "cells": [
  {
   "cell_type": "markdown",
   "metadata": {},
   "source": [
    "import matplotlib.pyplot as plt\n",
    "import numpy as np\n",
    "import seaborn as sns\n",
    "from IPython.display import display, HTML\n",
    "credit = pd.io.parsers.read_csv(\"originaldefaultValues.csv\")\n",
    "header = credit.dtypes.index\n",
    "print(header)\n",
    "plt.hist(credit['LIMIT_BAL'])\n",
    "plt.show()\n",
    "corr_matrix  = credit.corr()\n",
    "\n",
    "#heatmap;\n",
    "corr = corr_matrix\n",
    "corr.style.background_gradient(cmap='coolwarm')\n",
    "\n",
    "plt.plot(credit['LIMIT_BAL'])\n",
    "plt.show()\n",
    "\n",
    "\n",
    "\n"
   ]
  },
  {
   "cell_type": "code",
   "execution_count": null,
   "metadata": {},
   "outputs": [],
   "source": []
  }
 ],
 "metadata": {
  "kernelspec": {
   "display_name": "Python 3",
   "language": "python",
   "name": "python3"
  },
  "language_info": {
   "codemirror_mode": {
    "name": "ipython",
    "version": 3
   },
   "file_extension": ".py",
   "mimetype": "text/x-python",
   "name": "python",
   "nbconvert_exporter": "python",
   "pygments_lexer": "ipython3",
   "version": "3.7.4"
  },
  "widgets": {
   "application/vnd.jupyter.widget-state+json": {
    "state": {},
    "version_major": 2,
    "version_minor": 0
   }
  }
 },
 "nbformat": 4,
 "nbformat_minor": 2
}
