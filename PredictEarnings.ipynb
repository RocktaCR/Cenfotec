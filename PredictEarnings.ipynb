{
 "cells": [
  {
   "cell_type": "code",
   "execution_count": 1,
   "metadata": {},
   "outputs": [],
   "source": [
    "#Cleaning and preprocessing\n",
    "import pandas as pd\n",
    "from pandas_profiling import ProfileReport\n",
    "import numpy as np\n",
    "from math import sqrt\n",
    "import seaborn as sns\n",
    "import matplotlib.pyplot as plt\n",
    "from sklearn.svm import SVC\n",
    "from sklearn.ensemble import RandomForestClassifier\n",
    "from sklearn.model_selection import GridSearchCV\n",
    "from sklearn.neighbors import KNeighborsClassifier \n",
    "from sklearn.model_selection import train_test_split\n",
    "from sklearn.metrics import classification_report, confusion_matrix\n",
    "from sklearn.metrics import mean_squared_error\n",
    "from sklearn.metrics import r2_score\n",
    "from sklearn.model_selection import cross_val_score\n",
    "from sklearn.preprocessing import LabelEncoder\n",
    "data = pd.io.parsers.read_csv(\"DataSet.csv\")\n",
    "del data['fnlwgt']\n",
    "del data['education_num']\n",
    "del data['relationship']"
   ]
  },
  {
   "cell_type": "code",
   "execution_count": 2,
   "metadata": {},
   "outputs": [],
   "source": [
    "def Age_Splitting(people):\n",
    "    AGE = people\n",
    "    \n",
    "    if (AGE > 16 and AGE < 25):\n",
    "        return 'Young'\n",
    "    if AGE >= 25 and AGE < 35:\n",
    "        return 'Middle-aged'\n",
    "    if AGE >= 35 and AGE < 50:\n",
    "        return 'Senior'\n",
    "    else:\n",
    "        return 'Old'"
   ]
  },
  {
   "cell_type": "code",
   "execution_count": 3,
   "metadata": {},
   "outputs": [],
   "source": [
    "def hours_Splitting(people):\n",
    "    hours_peer_week = people\n",
    "    \n",
    "    if (hours_peer_week > 0 and hours_peer_week < 25):\n",
    "        return 'Part-time'\n",
    "    if hours_peer_week >= 25 and hours_peer_week < 40:\n",
    "        return 'Full-time'\n",
    "    if hours_peer_week >= 40 and hours_peer_week < 60:\n",
    "        return 'Over-time'\n",
    "    else:\n",
    "        return 'NoLife'"
   ]
  },
  {
   "cell_type": "code",
   "execution_count": 4,
   "metadata": {},
   "outputs": [],
   "source": [
    "data['workClass'] = data['workClass'].str.replace('?','Other')\n",
    "data['workClass'] = data['workClass'].str.replace('Without-pay','Other')\n",
    "data['workClass'] = data['workClass'].str.replace('Never-worked','Other')\n",
    "\n",
    "\n",
    "data['workClass'] = data['workClass'].str.replace('State-gov','Public')\n",
    "data['workClass'] = data['workClass'].str.replace('Local-gov','Public')\n",
    "data['workClass'] = data['workClass'].str.replace('Federal-gov','Public')\n",
    "\n",
    "data['workClass'] = data['workClass'].str.replace('Self-emp-not-inc','Self-employee')\n",
    "data['workClass'] = data['workClass'].str.replace('Self-emp-inc','Self-employee')\n",
    "\n",
    "data['education'] = data['education'].str.replace('12th','Some-HighSchool')\n",
    "data['education'] = data['education'].str.replace('11th','Some-HighSchool')\n",
    "data['education'] = data['education'].str.replace('10th','Some-HighSchool')\n",
    "data['education'] = data['education'].str.replace('7th-8th','Some-MiddleSchool')\n",
    "data['education'] = data['education'].str.replace('5th-6th','Some-School')\n",
    "data['education'] = data['education'].str.replace('9th','Some-MiddleSchool')\n",
    "data['education'] = data['education'].str.replace('1st-4th','Some-School')\n",
    "\n",
    "data['marital_status'] = data['marital_status'].str.replace('Married-civ-spouse','Married')\n",
    "data['marital_status'] = data['marital_status'].str.replace('Married-spouse-absent','Married')\n",
    "data['marital_status'] = data['marital_status'].str.replace('Never-married','Single')\n",
    "\n",
    "data['native_country'] = data['native_country'].str.replace('?','Other')\n",
    "data['occupation'] = data['occupation'].str.replace('?','Other')\n",
    "\n",
    "\n",
    "data['occupation'] = data['occupation'].str.replace('Tech-support','Service')\n",
    "data['occupation'] = data['occupation'].str.replace('Protective-serv','Service')\n",
    "data['occupation'] = data['occupation'].str.replace('Priv-house-serv','Service')\n",
    "data['occupation'] = data['occupation'].str.replace('Other-service','Service')\n",
    "\n",
    "data['occupation'] = data['occupation'].str.replace('Exec-managerial','Administrative')\n",
    "data['occupation'] = data['occupation'].str.replace('Adm-clerical','Administrative')\n",
    "data['occupation'] = data['occupation'].str.replace('Prof-specialty','Administrative')\n",
    "\n",
    "data['occupation'] = data['occupation'].str.replace('Craft-repair','ManualJob')\n",
    "data['occupation'] = data['occupation'].str.replace('Farming-fishing','ManualJob')\n",
    "data['occupation'] = data['occupation'].str.replace('Handlers-cleaners','ManualJob')\n",
    "data['occupation'] = data['occupation'].str.replace('Machine-op-inspct','ManualJob')\n",
    "\n",
    "data['occupation'] = data['occupation'].str.replace('Unknown','Other')\n",
    "data['occupation'] = data['occupation'].str.replace('Armed-Forces','Other')\n",
    "\n",
    "data['occupation'] = data['occupation'].str.replace('?','Other')\n",
    "\n",
    "\n",
    "data['Age'] = data['Age'].apply(Age_Splitting)\n",
    "data['hours_peer_week'] =  data['hours_peer_week'].apply(hours_Splitting)"
   ]
  },
  {
   "cell_type": "code",
   "execution_count": 5,
   "metadata": {},
   "outputs": [],
   "source": [
    "#PCA\n",
    "originalData = data.copy()\n",
    "initialColumns = data.iloc[:,0:7] \n",
    "midColumns = data.iloc[:,7:9]\n",
    "lastColumn = data.iloc[:,9:12] \n",
    "from sklearn.preprocessing import StandardScaler\n",
    "x = midColumns.values\n",
    "x = StandardScaler().fit_transform(x)\n",
    "x = pd.DataFrame(x)\n",
    "from sklearn.decomposition import PCA\n",
    "pca = PCA()\n",
    "x_pca = pca.fit_transform(x)\n",
    "x_pca = pd.DataFrame(x_pca)\n",
    "x_pca.columns = list(midColumns.columns.values)\n",
    "data = pd.concat([initialColumns, x_pca, lastColumn],sort=True, axis=1)"
   ]
  },
  {
   "cell_type": "code",
   "execution_count": 6,
   "metadata": {},
   "outputs": [
    {
     "data": {
      "text/plain": [
       "16281"
      ]
     },
     "execution_count": 6,
     "metadata": {},
     "output_type": "execute_result"
    }
   ],
   "source": [
    "#validatig dup rows in data set\n",
    "len(data.duplicated(subset=None, keep='first'))"
   ]
  },
  {
   "cell_type": "code",
   "execution_count": null,
   "metadata": {},
   "outputs": [],
   "source": [
    "#eda\n",
    "profile = ProfileReport(data, title='Pandas Profiling Report', html={'style':{'full_width':True}})\n",
    "profile\n",
    "\n",
    "#covariance\n",
    "Covariance = np.cov(train_data, test_data, bias=True)[0][1]"
   ]
  },
  {
   "cell_type": "code",
   "execution_count": 7,
   "metadata": {},
   "outputs": [],
   "source": [
    "newData = data.copy()\n",
    "categorical_feature_mask = newData.dtypes == object\n",
    "categorical_cols = newData.columns[categorical_feature_mask].tolist()\n",
    "le = LabelEncoder()\n",
    "newData[categorical_cols] = newData[categorical_cols].apply(lambda col: le.fit_transform(col))"
   ]
  },
  {
   "cell_type": "code",
   "execution_count": 8,
   "metadata": {},
   "outputs": [
    {
     "data": {
      "text/html": [
       "<div>\n",
       "<style scoped>\n",
       "    .dataframe tbody tr th:only-of-type {\n",
       "        vertical-align: middle;\n",
       "    }\n",
       "\n",
       "    .dataframe tbody tr th {\n",
       "        vertical-align: top;\n",
       "    }\n",
       "\n",
       "    .dataframe thead th {\n",
       "        text-align: right;\n",
       "    }\n",
       "</style>\n",
       "<table border=\"1\" class=\"dataframe\">\n",
       "  <thead>\n",
       "    <tr style=\"text-align: right;\">\n",
       "      <th></th>\n",
       "      <th>Age</th>\n",
       "      <th>workClass</th>\n",
       "      <th>education</th>\n",
       "      <th>marital_status</th>\n",
       "      <th>occupation</th>\n",
       "      <th>race</th>\n",
       "      <th>sex</th>\n",
       "      <th>capital_gain</th>\n",
       "      <th>capital_loss</th>\n",
       "      <th>hours_peer_week</th>\n",
       "      <th>native_country</th>\n",
       "      <th>earnings</th>\n",
       "    </tr>\n",
       "  </thead>\n",
       "  <tbody>\n",
       "    <tr>\n",
       "      <th>Age</th>\n",
       "      <td>1.000000</td>\n",
       "      <td>-0.068317</td>\n",
       "      <td>0.126756</td>\n",
       "      <td>0.157451</td>\n",
       "      <td>0.053881</td>\n",
       "      <td>0.026707</td>\n",
       "      <td>-0.055942</td>\n",
       "      <td>1.201278e-02</td>\n",
       "      <td>-2.297928e-02</td>\n",
       "      <td>0.008669</td>\n",
       "      <td>0.030065</td>\n",
       "      <td>-0.050364</td>\n",
       "    </tr>\n",
       "    <tr>\n",
       "      <th>workClass</th>\n",
       "      <td>-0.068317</td>\n",
       "      <td>1.000000</td>\n",
       "      <td>-0.076248</td>\n",
       "      <td>-0.148059</td>\n",
       "      <td>-0.108848</td>\n",
       "      <td>0.032926</td>\n",
       "      <td>0.114503</td>\n",
       "      <td>3.045602e-02</td>\n",
       "      <td>7.272853e-02</td>\n",
       "      <td>-0.045751</td>\n",
       "      <td>0.014520</td>\n",
       "      <td>0.144491</td>\n",
       "    </tr>\n",
       "    <tr>\n",
       "      <th>education</th>\n",
       "      <td>0.126756</td>\n",
       "      <td>-0.076248</td>\n",
       "      <td>1.000000</td>\n",
       "      <td>0.082899</td>\n",
       "      <td>0.111317</td>\n",
       "      <td>-0.009049</td>\n",
       "      <td>-0.028941</td>\n",
       "      <td>-7.679921e-03</td>\n",
       "      <td>-5.005252e-02</td>\n",
       "      <td>-0.003559</td>\n",
       "      <td>-0.023053</td>\n",
       "      <td>-0.136130</td>\n",
       "    </tr>\n",
       "    <tr>\n",
       "      <th>marital_status</th>\n",
       "      <td>0.157451</td>\n",
       "      <td>-0.148059</td>\n",
       "      <td>0.082899</td>\n",
       "      <td>1.000000</td>\n",
       "      <td>0.058895</td>\n",
       "      <td>-0.075905</td>\n",
       "      <td>-0.202073</td>\n",
       "      <td>-8.842433e-03</td>\n",
       "      <td>-7.637753e-02</td>\n",
       "      <td>-0.006400</td>\n",
       "      <td>0.002793</td>\n",
       "      <td>-0.293692</td>\n",
       "    </tr>\n",
       "    <tr>\n",
       "      <th>occupation</th>\n",
       "      <td>0.053881</td>\n",
       "      <td>-0.108848</td>\n",
       "      <td>0.111317</td>\n",
       "      <td>0.058895</td>\n",
       "      <td>1.000000</td>\n",
       "      <td>-0.033032</td>\n",
       "      <td>0.003237</td>\n",
       "      <td>-2.036824e-02</td>\n",
       "      <td>-6.899858e-02</td>\n",
       "      <td>-0.016706</td>\n",
       "      <td>-0.009698</td>\n",
       "      <td>-0.155211</td>\n",
       "    </tr>\n",
       "    <tr>\n",
       "      <th>race</th>\n",
       "      <td>0.026707</td>\n",
       "      <td>0.032926</td>\n",
       "      <td>-0.009049</td>\n",
       "      <td>-0.075905</td>\n",
       "      <td>-0.033032</td>\n",
       "      <td>1.000000</td>\n",
       "      <td>0.085816</td>\n",
       "      <td>-3.852921e-03</td>\n",
       "      <td>2.184836e-02</td>\n",
       "      <td>-0.006365</td>\n",
       "      <td>0.134607</td>\n",
       "      <td>0.069142</td>\n",
       "    </tr>\n",
       "    <tr>\n",
       "      <th>sex</th>\n",
       "      <td>-0.055942</td>\n",
       "      <td>0.114503</td>\n",
       "      <td>-0.028941</td>\n",
       "      <td>-0.202073</td>\n",
       "      <td>0.003237</td>\n",
       "      <td>0.085816</td>\n",
       "      <td>1.000000</td>\n",
       "      <td>-6.268654e-04</td>\n",
       "      <td>6.445452e-02</td>\n",
       "      <td>0.040441</td>\n",
       "      <td>-0.013487</td>\n",
       "      <td>0.211892</td>\n",
       "    </tr>\n",
       "    <tr>\n",
       "      <th>capital_gain</th>\n",
       "      <td>0.012013</td>\n",
       "      <td>0.030456</td>\n",
       "      <td>-0.007680</td>\n",
       "      <td>-0.008842</td>\n",
       "      <td>-0.020368</td>\n",
       "      <td>-0.003853</td>\n",
       "      <td>-0.000627</td>\n",
       "      <td>1.000000e+00</td>\n",
       "      <td>9.013197e-15</td>\n",
       "      <td>-0.003893</td>\n",
       "      <td>-0.000367</td>\n",
       "      <td>0.056332</td>\n",
       "    </tr>\n",
       "    <tr>\n",
       "      <th>capital_loss</th>\n",
       "      <td>-0.022979</td>\n",
       "      <td>0.072729</td>\n",
       "      <td>-0.050053</td>\n",
       "      <td>-0.076378</td>\n",
       "      <td>-0.068999</td>\n",
       "      <td>0.021848</td>\n",
       "      <td>0.064455</td>\n",
       "      <td>9.013197e-15</td>\n",
       "      <td>1.000000e+00</td>\n",
       "      <td>-0.016282</td>\n",
       "      <td>0.005783</td>\n",
       "      <td>0.261544</td>\n",
       "    </tr>\n",
       "    <tr>\n",
       "      <th>hours_peer_week</th>\n",
       "      <td>0.008669</td>\n",
       "      <td>-0.045751</td>\n",
       "      <td>-0.003559</td>\n",
       "      <td>-0.006400</td>\n",
       "      <td>-0.016706</td>\n",
       "      <td>-0.006365</td>\n",
       "      <td>0.040441</td>\n",
       "      <td>-3.893065e-03</td>\n",
       "      <td>-1.628186e-02</td>\n",
       "      <td>1.000000</td>\n",
       "      <td>-0.005171</td>\n",
       "      <td>0.018845</td>\n",
       "    </tr>\n",
       "    <tr>\n",
       "      <th>native_country</th>\n",
       "      <td>0.030065</td>\n",
       "      <td>0.014520</td>\n",
       "      <td>-0.023053</td>\n",
       "      <td>0.002793</td>\n",
       "      <td>-0.009698</td>\n",
       "      <td>0.134607</td>\n",
       "      <td>-0.013487</td>\n",
       "      <td>-3.671499e-04</td>\n",
       "      <td>5.783198e-03</td>\n",
       "      <td>-0.005171</td>\n",
       "      <td>1.000000</td>\n",
       "      <td>0.012953</td>\n",
       "    </tr>\n",
       "    <tr>\n",
       "      <th>earnings</th>\n",
       "      <td>-0.050364</td>\n",
       "      <td>0.144491</td>\n",
       "      <td>-0.136130</td>\n",
       "      <td>-0.293692</td>\n",
       "      <td>-0.155211</td>\n",
       "      <td>0.069142</td>\n",
       "      <td>0.211892</td>\n",
       "      <td>5.633184e-02</td>\n",
       "      <td>2.615438e-01</td>\n",
       "      <td>0.018845</td>\n",
       "      <td>0.012953</td>\n",
       "      <td>1.000000</td>\n",
       "    </tr>\n",
       "  </tbody>\n",
       "</table>\n",
       "</div>"
      ],
      "text/plain": [
       "                      Age  workClass  education  marital_status  occupation  \\\n",
       "Age              1.000000  -0.068317   0.126756        0.157451    0.053881   \n",
       "workClass       -0.068317   1.000000  -0.076248       -0.148059   -0.108848   \n",
       "education        0.126756  -0.076248   1.000000        0.082899    0.111317   \n",
       "marital_status   0.157451  -0.148059   0.082899        1.000000    0.058895   \n",
       "occupation       0.053881  -0.108848   0.111317        0.058895    1.000000   \n",
       "race             0.026707   0.032926  -0.009049       -0.075905   -0.033032   \n",
       "sex             -0.055942   0.114503  -0.028941       -0.202073    0.003237   \n",
       "capital_gain     0.012013   0.030456  -0.007680       -0.008842   -0.020368   \n",
       "capital_loss    -0.022979   0.072729  -0.050053       -0.076378   -0.068999   \n",
       "hours_peer_week  0.008669  -0.045751  -0.003559       -0.006400   -0.016706   \n",
       "native_country   0.030065   0.014520  -0.023053        0.002793   -0.009698   \n",
       "earnings        -0.050364   0.144491  -0.136130       -0.293692   -0.155211   \n",
       "\n",
       "                     race       sex  capital_gain  capital_loss  \\\n",
       "Age              0.026707 -0.055942  1.201278e-02 -2.297928e-02   \n",
       "workClass        0.032926  0.114503  3.045602e-02  7.272853e-02   \n",
       "education       -0.009049 -0.028941 -7.679921e-03 -5.005252e-02   \n",
       "marital_status  -0.075905 -0.202073 -8.842433e-03 -7.637753e-02   \n",
       "occupation      -0.033032  0.003237 -2.036824e-02 -6.899858e-02   \n",
       "race             1.000000  0.085816 -3.852921e-03  2.184836e-02   \n",
       "sex              0.085816  1.000000 -6.268654e-04  6.445452e-02   \n",
       "capital_gain    -0.003853 -0.000627  1.000000e+00  9.013197e-15   \n",
       "capital_loss     0.021848  0.064455  9.013197e-15  1.000000e+00   \n",
       "hours_peer_week -0.006365  0.040441 -3.893065e-03 -1.628186e-02   \n",
       "native_country   0.134607 -0.013487 -3.671499e-04  5.783198e-03   \n",
       "earnings         0.069142  0.211892  5.633184e-02  2.615438e-01   \n",
       "\n",
       "                 hours_peer_week  native_country  earnings  \n",
       "Age                     0.008669        0.030065 -0.050364  \n",
       "workClass              -0.045751        0.014520  0.144491  \n",
       "education              -0.003559       -0.023053 -0.136130  \n",
       "marital_status         -0.006400        0.002793 -0.293692  \n",
       "occupation             -0.016706       -0.009698 -0.155211  \n",
       "race                   -0.006365        0.134607  0.069142  \n",
       "sex                     0.040441       -0.013487  0.211892  \n",
       "capital_gain           -0.003893       -0.000367  0.056332  \n",
       "capital_loss           -0.016282        0.005783  0.261544  \n",
       "hours_peer_week         1.000000       -0.005171  0.018845  \n",
       "native_country         -0.005171        1.000000  0.012953  \n",
       "earnings                0.018845        0.012953  1.000000  "
      ]
     },
     "execution_count": 8,
     "metadata": {},
     "output_type": "execute_result"
    }
   ],
   "source": [
    "#correlation matrix\n",
    "corrMatrix = newData.corr()\n",
    "corrMatrix"
   ]
  },
  {
   "cell_type": "code",
   "execution_count": 9,
   "metadata": {},
   "outputs": [],
   "source": [
    "newData['sex'] = newData['sex'].astype('category')\n",
    "newData['earnings'] = newData['earnings'].astype('category')\n",
    "newData['hours_peer_week'] = newData['hours_peer_week'].astype('category')\n",
    "newData['race'] = newData['race'].astype('category')\n",
    "newData['marital_status'] = newData['marital_status'].astype('category')\n",
    "newData['workClass'] = newData['workClass'].astype('category')\n",
    "newData['Age'] = newData['Age'].astype('category')\n",
    "newData['education'] = newData['education'].astype('category')\n",
    "newData['native_country'] = newData['native_country'].astype('category')\n",
    "newData['occupation'] = newData['occupation'].astype('category')"
   ]
  },
  {
   "cell_type": "code",
   "execution_count": 10,
   "metadata": {},
   "outputs": [
    {
     "name": "stdout",
     "output_type": "stream",
     "text": [
      "Fitting 2 folds for each of 192 candidates, totalling 384 fits\n"
     ]
    },
    {
     "name": "stderr",
     "output_type": "stream",
     "text": [
      "[Parallel(n_jobs=-1)]: Using backend LokyBackend with 8 concurrent workers.\n",
      "[Parallel(n_jobs=-1)]: Done  25 tasks      | elapsed:    8.1s\n",
      "[Parallel(n_jobs=-1)]: Done 146 tasks      | elapsed:   23.8s\n",
      "[Parallel(n_jobs=-1)]: Done 349 tasks      | elapsed:   53.4s\n",
      "[Parallel(n_jobs=-1)]: Done 384 out of 384 | elapsed:   59.0s finished\n"
     ]
    },
    {
     "name": "stdout",
     "output_type": "stream",
     "text": [
      "Fitting 2 folds for each of 192 candidates, totalling 384 fits\n"
     ]
    },
    {
     "name": "stderr",
     "output_type": "stream",
     "text": [
      "[Parallel(n_jobs=-1)]: Using backend LokyBackend with 8 concurrent workers.\n",
      "[Parallel(n_jobs=-1)]: Done  25 tasks      | elapsed:    4.2s\n",
      "[Parallel(n_jobs=-1)]: Done 146 tasks      | elapsed:   23.6s\n",
      "[Parallel(n_jobs=-1)]: Done 349 tasks      | elapsed:   50.8s\n",
      "[Parallel(n_jobs=-1)]: Done 384 out of 384 | elapsed:   55.8s finished\n"
     ]
    },
    {
     "name": "stdout",
     "output_type": "stream",
     "text": [
      "Fitting 2 folds for each of 192 candidates, totalling 384 fits\n"
     ]
    },
    {
     "name": "stderr",
     "output_type": "stream",
     "text": [
      "[Parallel(n_jobs=-1)]: Using backend LokyBackend with 8 concurrent workers.\n",
      "[Parallel(n_jobs=-1)]: Done  25 tasks      | elapsed:    4.3s\n",
      "[Parallel(n_jobs=-1)]: Done 146 tasks      | elapsed:   22.3s\n",
      "[Parallel(n_jobs=-1)]: Done 349 tasks      | elapsed:   47.6s\n",
      "[Parallel(n_jobs=-1)]: Done 384 out of 384 | elapsed:   52.2s finished\n"
     ]
    },
    {
     "name": "stdout",
     "output_type": "stream",
     "text": [
      "Fitting 2 folds for each of 192 candidates, totalling 384 fits\n"
     ]
    },
    {
     "name": "stderr",
     "output_type": "stream",
     "text": [
      "[Parallel(n_jobs=-1)]: Using backend LokyBackend with 8 concurrent workers.\n",
      "[Parallel(n_jobs=-1)]: Done  25 tasks      | elapsed:    3.4s\n",
      "[Parallel(n_jobs=-1)]: Done 146 tasks      | elapsed:   18.1s\n",
      "[Parallel(n_jobs=-1)]: Done 349 tasks      | elapsed:   42.6s\n",
      "[Parallel(n_jobs=-1)]: Done 384 out of 384 | elapsed:   47.8s finished\n"
     ]
    },
    {
     "name": "stdout",
     "output_type": "stream",
     "text": [
      "Fitting 2 folds for each of 192 candidates, totalling 384 fits\n"
     ]
    },
    {
     "name": "stderr",
     "output_type": "stream",
     "text": [
      "[Parallel(n_jobs=-1)]: Using backend LokyBackend with 8 concurrent workers.\n",
      "[Parallel(n_jobs=-1)]: Done  25 tasks      | elapsed:    3.4s\n",
      "[Parallel(n_jobs=-1)]: Done 146 tasks      | elapsed:   18.9s\n",
      "[Parallel(n_jobs=-1)]: Done 349 tasks      | elapsed:   45.0s\n",
      "[Parallel(n_jobs=-1)]: Done 384 out of 384 | elapsed:   50.0s finished\n"
     ]
    },
    {
     "name": "stdout",
     "output_type": "stream",
     "text": [
      "Fitting 2 folds for each of 192 candidates, totalling 384 fits\n"
     ]
    },
    {
     "name": "stderr",
     "output_type": "stream",
     "text": [
      "[Parallel(n_jobs=-1)]: Using backend LokyBackend with 8 concurrent workers.\n",
      "[Parallel(n_jobs=-1)]: Done  25 tasks      | elapsed:    3.5s\n",
      "[Parallel(n_jobs=-1)]: Done 146 tasks      | elapsed:   20.4s\n",
      "[Parallel(n_jobs=-1)]: Done 349 tasks      | elapsed:   48.2s\n",
      "[Parallel(n_jobs=-1)]: Done 384 out of 384 | elapsed:   52.8s finished\n"
     ]
    },
    {
     "name": "stdout",
     "output_type": "stream",
     "text": [
      "Fitting 2 folds for each of 192 candidates, totalling 384 fits\n"
     ]
    },
    {
     "name": "stderr",
     "output_type": "stream",
     "text": [
      "[Parallel(n_jobs=-1)]: Using backend LokyBackend with 8 concurrent workers.\n",
      "[Parallel(n_jobs=-1)]: Done  25 tasks      | elapsed:    3.5s\n",
      "[Parallel(n_jobs=-1)]: Done 146 tasks      | elapsed:   18.4s\n",
      "[Parallel(n_jobs=-1)]: Done 349 tasks      | elapsed:   43.1s\n",
      "[Parallel(n_jobs=-1)]: Done 384 out of 384 | elapsed:   47.5s finished\n"
     ]
    },
    {
     "name": "stdout",
     "output_type": "stream",
     "text": [
      "Fitting 2 folds for each of 192 candidates, totalling 384 fits\n"
     ]
    },
    {
     "name": "stderr",
     "output_type": "stream",
     "text": [
      "[Parallel(n_jobs=-1)]: Using backend LokyBackend with 8 concurrent workers.\n",
      "[Parallel(n_jobs=-1)]: Done  25 tasks      | elapsed:    3.2s\n",
      "[Parallel(n_jobs=-1)]: Done 146 tasks      | elapsed:   20.0s\n",
      "[Parallel(n_jobs=-1)]: Done 349 tasks      | elapsed:   52.0s\n",
      "[Parallel(n_jobs=-1)]: Done 384 out of 384 | elapsed:   58.4s finished\n"
     ]
    },
    {
     "name": "stdout",
     "output_type": "stream",
     "text": [
      "Fitting 2 folds for each of 192 candidates, totalling 384 fits\n"
     ]
    },
    {
     "name": "stderr",
     "output_type": "stream",
     "text": [
      "[Parallel(n_jobs=-1)]: Using backend LokyBackend with 8 concurrent workers.\n",
      "[Parallel(n_jobs=-1)]: Done  25 tasks      | elapsed:    4.3s\n",
      "[Parallel(n_jobs=-1)]: Done 146 tasks      | elapsed:   20.7s\n",
      "[Parallel(n_jobs=-1)]: Done 349 tasks      | elapsed:   47.7s\n",
      "[Parallel(n_jobs=-1)]: Done 384 out of 384 | elapsed:   52.6s finished\n"
     ]
    },
    {
     "name": "stdout",
     "output_type": "stream",
     "text": [
      "Fitting 2 folds for each of 192 candidates, totalling 384 fits\n"
     ]
    },
    {
     "name": "stderr",
     "output_type": "stream",
     "text": [
      "[Parallel(n_jobs=-1)]: Using backend LokyBackend with 8 concurrent workers.\n",
      "[Parallel(n_jobs=-1)]: Done  25 tasks      | elapsed:    3.5s\n",
      "[Parallel(n_jobs=-1)]: Done 146 tasks      | elapsed:   19.4s\n",
      "[Parallel(n_jobs=-1)]: Done 349 tasks      | elapsed:   46.8s\n",
      "[Parallel(n_jobs=-1)]: Done 384 out of 384 | elapsed:   51.5s finished\n"
     ]
    },
    {
     "name": "stdout",
     "output_type": "stream",
     "text": [
      "Fitting 2 folds for each of 192 candidates, totalling 384 fits\n"
     ]
    },
    {
     "name": "stderr",
     "output_type": "stream",
     "text": [
      "[Parallel(n_jobs=-1)]: Using backend LokyBackend with 8 concurrent workers.\n",
      "[Parallel(n_jobs=-1)]: Done  25 tasks      | elapsed:    3.4s\n",
      "[Parallel(n_jobs=-1)]: Done 146 tasks      | elapsed:   19.3s\n",
      "[Parallel(n_jobs=-1)]: Done 349 tasks      | elapsed:   44.8s\n",
      "[Parallel(n_jobs=-1)]: Done 384 out of 384 | elapsed:   49.4s finished\n"
     ]
    },
    {
     "name": "stdout",
     "output_type": "stream",
     "text": [
      "Cross Validation - Accuracy of RFC:  85.89 %\n",
      "Cross Validation - R_Squared of RFC:  87.8 %\n",
      "[[3569  168]\n",
      " [ 526  622]]\n",
      "              precision    recall  f1-score   support\n",
      "\n",
      "           0       0.87      0.96      0.91      3737\n",
      "           1       0.79      0.54      0.64      1148\n",
      "\n",
      "    accuracy                           0.86      4885\n",
      "   macro avg       0.83      0.75      0.78      4885\n",
      "weighted avg       0.85      0.86      0.85      4885\n",
      "\n"
     ]
    }
   ],
   "source": [
    "#Classification - Random forest \n",
    "np.random.seed(123)\n",
    "X_train, X_test, y_train, y_test = train_test_split(\n",
    "    newData.drop(\"earnings\", axis=1),newData['earnings'],\n",
    "    train_size = 0.7,random_state=42)\n",
    "\n",
    "rf = RandomForestClassifier()\n",
    "param_grid = {\n",
    "    'bootstrap': [True],\n",
    "    'max_depth': [80, 90, 100, 110],\n",
    "    'max_features': [2,3],\n",
    "    'min_samples_leaf': [3,4],\n",
    "    'min_samples_split': [7, 9, 11],\n",
    "    'n_estimators': [50, 150, 175, 300]\n",
    "}\n",
    "modelRFC = GridSearchCV(estimator = rf, param_grid = param_grid, \n",
    "                          cv = 2, n_jobs = -1, verbose = 2)\n",
    "modelRFC.fit(X_train,y_train)\n",
    "cross_val_rfc = cross_val_score(modelRFC, X=X_train, y=y_train, cv=10)\n",
    "R_SquaredRF = modelRFC.score(X_train,y_train)\n",
    "print(\"Cross Validation - Accuracy of RFC: \", round(cross_val_rfc.mean() * 100 , 2),\"%\")\n",
    "print(\"Cross Validation - R_Squared of RFC: \", round(R_SquaredRF * 100 , 2),\"%\")\n",
    "\n",
    "#Make Predictions\n",
    "predictionsRFC = modelRFC.predict(X_test)\n",
    "rmseSVR = sqrt(mean_squared_error(y_test, predictionsRFC))\n",
    "print(confusion_matrix(y_test, predictionsRFC))\n",
    "print(classification_report(y_test, predictionsRFC))"
   ]
  },
  {
   "cell_type": "code",
   "execution_count": null,
   "metadata": {},
   "outputs": [],
   "source": [
    "#Classification - KNN\n",
    "np.random.seed(123)\n",
    "X_train, X_test, y_train, y_test = train_test_split(newData.drop(\"earnings\", axis=1),newData['earnings'],train_size = 0.7,random_state=42)\n",
    "\n",
    "neighbors = np.arange(1, 9) \n",
    "train_accuracy = np.empty(len(neighbors)) \n",
    "test_accuracy = np.empty(len(neighbors)) \n",
    "\n",
    "\n",
    "for i, k in enumerate(neighbors): \n",
    "    knn = KNeighborsClassifier(n_neighbors=k) \n",
    "    knn.fit(X_train, y_train) \n",
    "      \n",
    "    # Compute traning and test data accuracy \n",
    "    train_accuracy[i] = knn.score(X_train, y_train) \n",
    "    test_accuracy[i] = knn.score(X_test, y_test) \n",
    "    cross_val_KNN = cross_val_score(knn, X=X_train, y=y_train, cv=10)\n",
    "    R_SquaredKNN = knn.score(X_train,y_train)\n",
    "    print(\"Cross Validation - Accuracy of KNN: \", round(cross_val_KNN.mean() * 100 , 2),\"%\")\n",
    "    print(\"Cross Validation - R_Squared of KNN: \", round(R_SquaredKNN * 100 , 2),\"%\")\n",
    "\n",
    "#Make Predictions\n",
    "predictionsKNN = knn.predict(X_test)\n",
    "rmseKNN = sqrt(mean_squared_error(y_test, predictionsKNN))\n",
    "print('KNN - RMSE: %.3f' % rmseKNN)\n",
    "print(confusion_matrix(y_test, predictionsKNN))\n",
    "print(classification_report(y_test, predictionsKNN))\n",
    "\n",
    "    \n",
    "plt.plot(neighbors, test_accuracy, label = 'Testing dataset Accuracy') \n",
    "plt.plot(neighbors, train_accuracy, label = 'Training dataset Accuracy') \n",
    "plt.legend() \n",
    "plt.xlabel('n_neighbors') \n",
    "plt.ylabel('Accuracy') \n",
    "plt.show()\n"
   ]
  },
  {
   "cell_type": "code",
   "execution_count": null,
   "metadata": {},
   "outputs": [],
   "source": [
    "#classification - SVC\n",
    "\n",
    "np.random.seed(341)\n",
    "\n",
    "X_train, X_test, y_train, y_test = train_test_split(newData.drop(\"earnings\",\n",
    "    axis=1),newData['earnings'],train_size = 0.7,random_state=42)\n",
    "\n",
    "\n",
    "tuned_parameters = [{'kernel': ['linear'], 'gamma': 'auto',\n",
    "                    'C': [1, 10]}]\n",
    "\n",
    " \n",
    "modelSVC = GridSearchCV(SVC(), tuned_parameters, n_jobs = -1)\n",
    "modelSVC.fit(X_train,y_train)\n",
    "cross_val_SVC = cross_val_score(modelSVC, X=X_train, y=y_train, cv=10)\n",
    "R_SquaredSVC = modelSVC.score(X_train,y_train)\n",
    "print(\"Cross Validation - Accuracy of SVC: \", round(cross_val_SVC.mean() * 100 , 2),\"%\")\n",
    "print(\"Cross Validation - R_Squared of SVC: \", round(R_SquaredSVC * 100 , 2),\"%\")\n",
    "\n",
    "\n",
    "#Make Predictions\n",
    "predictionsSVC = modelSVM.predict(X_test)\n",
    "rmseSVC = sqrt(mean_squared_error(y_test, predictionsSVC))\n",
    "print('SVC - RMSE: %.3f' % rmseSVC)\n",
    "print(confusion_matrix(y_test, predictionsSVC))\n",
    "print(classification_report(y_test, predictionsSVC))"
   ]
  },
  {
   "cell_type": "code",
   "execution_count": null,
   "metadata": {},
   "outputs": [],
   "source": [
    "originalData.head()"
   ]
  },
  {
   "cell_type": "code",
   "execution_count": null,
   "metadata": {},
   "outputs": [],
   "source": [
    "\n",
    "# Define which gender has better payments on credits \n",
    "import matplotlib.pyplot as plt\n",
    "fg = sns.countplot(\"earnings\", hue='sex', data=originalData);\n",
    "plt.title(\"Earnings by gender\")\n",
    "plt.xlabel('Earnings')\n",
    "total = len(originalData[\"sex\"])\n",
    "for p in fg.patches:\n",
    "        percentage = '{:.1f}%'.format(100 * p.get_height()/total)\n",
    "        x = p.get_x() + 0.13\n",
    "        y = p.get_y() + p.get_height() + 148\n",
    "        fg.annotate(percentage, (x, y))\n",
    "\n",
    "plt.show()"
   ]
  },
  {
   "cell_type": "code",
   "execution_count": null,
   "metadata": {},
   "outputs": [],
   "source": [
    "# Define which work class has better earnings\n",
    "fg = sns.catplot(\"earnings\", hue='workClass', kind=\"count\", data=originalData, ci=None, aspect=1.3);\n",
    "fg.set_xlabels('Earnings')\n",
    "fg.set_ylabels('Count')"
   ]
  },
  {
   "cell_type": "code",
   "execution_count": null,
   "metadata": {},
   "outputs": [],
   "source": [
    "# Define which Education has better payments on credits \n",
    "fg = sns.countplot(y=\"earnings\", hue=\"occupation\",\n",
    "            palette=\"pastel\", edgecolor=\".6\",\n",
    "            data=originalData);\n",
    "plt.title(\"Earnings by occupation\")\n",
    "plt.ylabel('Earnings')\n",
    "total = len(originalData[\"occupation\"])\n",
    "for p in fg.patches:\n",
    "        percentage = '{:.1f}%'.format(100 * p.get_width()/total) + ' - Total :' + str(p.get_width())\n",
    "        x = p.get_x() + 111\n",
    "        y = p.get_y()-0.03 + p.get_height()\n",
    "        fg.annotate(percentage, (x, y))\n",
    "\n",
    "plt.show()"
   ]
  },
  {
   "cell_type": "code",
   "execution_count": null,
   "metadata": {},
   "outputs": [],
   "source": [
    "# Define which Age group has better earnings\n",
    "fg = sns.catplot(\"earnings\", hue='Age', kind=\"count\", data=originalData, ci=None, aspect=1.3);\n",
    "fg.set_xlabels('Amount')\n",
    "fg.set_ylabels('Count age group')"
   ]
  },
  {
   "cell_type": "code",
   "execution_count": null,
   "metadata": {},
   "outputs": [],
   "source": [
    "# Define which gender with certaing education has better earnings\n",
    "fg = sns.catplot(x=\"earnings\",hue=\"sex\", col=\"education\" , kind=\"count\", data=originalData, ci=None, aspect=1.3);\n",
    "fg.set_xlabels('State')\n",
    "fg.set_ylabels('Count')\n"
   ]
  },
  {
   "cell_type": "code",
   "execution_count": null,
   "metadata": {},
   "outputs": [],
   "source": [
    "# Define which gender with certaing age has better earnings\n",
    "fg = sns.catplot(x=\"earnings\",hue=\"sex\", col=\"Age\" , kind=\"count\", data=originalData, ci=None, aspect=1.3);\n",
    "fg.set_xlabels('Amount')\n",
    "fg.set_ylabels('Count')\n"
   ]
  },
  {
   "cell_type": "code",
   "execution_count": null,
   "metadata": {
    "scrolled": true
   },
   "outputs": [],
   "source": [
    "# Define which gender with certaing hours per week has better earnings\n",
    "fg = sns.catplot(x=\"earnings\",hue=\"hours_peer_week\", col=\"Age\" , kind=\"count\", data=originalData, ci=None, aspect=1.3);\n",
    "fg.set_xlabels('Amount')\n",
    "fg.set_ylabels('Count')"
   ]
  },
  {
   "cell_type": "code",
   "execution_count": null,
   "metadata": {},
   "outputs": [],
   "source": [
    "# Define which gender in an age group has better capital gain\n",
    "sns.barplot(x=\"Age\", y=\"capital_gain\", hue=\"sex\" , data=originalData)  "
   ]
  },
  {
   "cell_type": "code",
   "execution_count": null,
   "metadata": {},
   "outputs": [],
   "source": [
    "# Define which gender in an age group has the worst capital loss\n",
    "sns.barplot(x=\"Age\", y=\"capital_loss\", hue=\"sex\" , data=originalData)  "
   ]
  },
  {
   "cell_type": "code",
   "execution_count": null,
   "metadata": {},
   "outputs": [],
   "source": [
    "sns.catplot(x=\"sex\", y=\"capital_gain\",\n",
    "                hue=\"hours_peer_week\", col=\"Age\",\n",
    "                data=originalData, kind=\"boxen\",\n",
    "                height=4, aspect=.7);"
   ]
  },
  {
   "cell_type": "code",
   "execution_count": null,
   "metadata": {},
   "outputs": [],
   "source": [
    "sns.stripplot(x=\"sex\", y=\"capital_gain\", data=originalData,hue=\"Age\",palette=\"Set2\", dodge=True)"
   ]
  },
  {
   "cell_type": "code",
   "execution_count": null,
   "metadata": {},
   "outputs": [],
   "source": [
    " sns.catplot(x=\"Age\", y=\"capital_gain\",\n",
    "                hue=\"workClass\", col=\"marital_status\",\n",
    "                data=originalData, kind=\"strip\",\n",
    "                height=4, aspect=.7);"
   ]
  },
  {
   "cell_type": "code",
   "execution_count": null,
   "metadata": {
    "scrolled": true
   },
   "outputs": [],
   "source": [
    "#trend capital gain through ages\n",
    "sns.pointplot(x=\"Age\", y=\"capital_gain\", data=originalData, capsize=.2, order=['Young', 'Middle-aged', 'Senior', 'Old'])"
   ]
  },
  {
   "cell_type": "code",
   "execution_count": null,
   "metadata": {},
   "outputs": [],
   "source": []
  }
 ],
 "metadata": {
  "kernelspec": {
   "display_name": "Python 3",
   "language": "python",
   "name": "python3"
  },
  "language_info": {
   "codemirror_mode": {
    "name": "ipython",
    "version": 3
   },
   "file_extension": ".py",
   "mimetype": "text/x-python",
   "name": "python",
   "nbconvert_exporter": "python",
   "pygments_lexer": "ipython3",
   "version": "3.7.4"
  }
 },
 "nbformat": 4,
 "nbformat_minor": 2
}
